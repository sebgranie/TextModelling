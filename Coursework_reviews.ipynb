{
 "cells": [
  {
   "cell_type": "code",
   "execution_count": 1,
   "id": "9b62aa3c",
   "metadata": {
    "scrolled": true
   },
   "outputs": [
    {
     "name": "stderr",
     "output_type": "stream",
     "text": [
      "[nltk_data] Downloading package stopwords to\n",
      "[nltk_data]     /home/sebastien/nltk_data...\n",
      "[nltk_data]   Package stopwords is already up-to-date!\n",
      "[nltk_data] Downloading package wordnet to\n",
      "[nltk_data]     /home/sebastien/nltk_data...\n",
      "[nltk_data]   Package wordnet is already up-to-date!\n"
     ]
    }
   ],
   "source": [
    "import pandas as pd\n",
    "import numpy as np\n",
    "\n",
    "import re\n",
    "import nltk\n",
    "from nltk.corpus import stopwords\n",
    "from nltk.stem import WordNetLemmatizer\n",
    "from sklearn.feature_extraction.text import TfidfVectorizer\n",
    "from sklearn.model_selection import train_test_split\n",
    "\n",
    "import spacy\n",
    "nlp = spacy.load(\"en_core_web_sm\")\n",
    "\n",
    "# Text Preprocessing\n",
    "nltk.download('stopwords')\n",
    "nltk.download('wordnet')\n",
    "stop_words = stopwords.words('english')\n",
    "lemmatizer = WordNetLemmatizer()\n",
    "\n",
    "from operator import add\n",
    "import math\n",
    "from collections import Counter\n",
    "\n",
    "import random\n",
    "from random import sample\n",
    "\n",
    "import warnings\n",
    "warnings.filterwarnings('ignore')\n",
    "\n",
    "import matplotlib.pyplot as plt\n",
    "from sklearn import metrics\n"
   ]
  },
  {
   "cell_type": "code",
   "execution_count": 2,
   "id": "afb4032d",
   "metadata": {},
   "outputs": [],
   "source": [
    "pd.set_option('display.max_rows', 10000)"
   ]
  },
  {
   "cell_type": "code",
   "execution_count": 3,
   "id": "6afea1bd",
   "metadata": {},
   "outputs": [],
   "source": [
    "whole_df = pd.read_csv('/home/sebastien/Documents/Glasgow/Semester2/Text_As_Data/coursework/archive/Reviews.csv')"
   ]
  },
  {
   "cell_type": "code",
   "execution_count": 4,
   "id": "26b8be8b",
   "metadata": {},
   "outputs": [
    {
     "data": {
      "text/plain": [
       "568454"
      ]
     },
     "execution_count": 4,
     "metadata": {},
     "output_type": "execute_result"
    }
   ],
   "source": [
    "len(whole_df)"
   ]
  },
  {
   "cell_type": "code",
   "execution_count": 5,
   "id": "a469e0d9",
   "metadata": {},
   "outputs": [],
   "source": [
    "## Shortening the dataset to 10,000 reviews. \n",
    "whole_df = pd.read_csv('/home/sebastien/Documents/Glasgow/Semester2/Text_As_Data/coursework/archive/Reviews.csv')\n",
    "df = whole_df[:10000]\n",
    "\n",
    "#shuffled_reviews = random.sample(df, k=len(df))\n",
    "\n",
    "## Split the data into 60% train, 20% validation, 20% testing.\n",
    "\n",
    "#train_frac = 0.6\n",
    "#split_idx = int(train_frac * len(shuffled_reviews))\n",
    "#train_reviews = shuffled_reviews[:split_idx]\n",
    "#validation_test_reviews = shuffled_reviews[split_idx:]\n",
    "\n",
    "#valid_test_frac = 0.5\n",
    "#split_id = int(valid_test_frac * len(validation_test_reviews))\n",
    "#validation_reviews = validation_test_reviews[:split_id]\n",
    "#test_reviews = validation_test_reviews[split_id:]\n"
   ]
  },
  {
   "cell_type": "code",
   "execution_count": 6,
   "id": "52bceba4",
   "metadata": {},
   "outputs": [
    {
     "data": {
      "text/plain": [
       "Id                         int64\n",
       "ProductId                 object\n",
       "UserId                    object\n",
       "ProfileName               object\n",
       "HelpfulnessNumerator       int64\n",
       "HelpfulnessDenominator     int64\n",
       "Score                      int64\n",
       "Time                       int64\n",
       "Summary                   object\n",
       "Text                      object\n",
       "dtype: object"
      ]
     },
     "execution_count": 6,
     "metadata": {},
     "output_type": "execute_result"
    }
   ],
   "source": [
    "df.dtypes"
   ]
  },
  {
   "cell_type": "code",
   "execution_count": 7,
   "id": "52c36c1b",
   "metadata": {},
   "outputs": [
    {
     "data": {
      "text/plain": [
       "(10000, 10)"
      ]
     },
     "execution_count": 7,
     "metadata": {},
     "output_type": "execute_result"
    }
   ],
   "source": [
    "df.shape"
   ]
  },
  {
   "cell_type": "code",
   "execution_count": 8,
   "id": "7b2c59d9",
   "metadata": {
    "scrolled": false
   },
   "outputs": [],
   "source": [
    "#df.head()"
   ]
  },
  {
   "cell_type": "code",
   "execution_count": 9,
   "id": "eacd6baa",
   "metadata": {},
   "outputs": [],
   "source": [
    "df_test = whole_df[20000:45000]"
   ]
  },
  {
   "cell_type": "code",
   "execution_count": 10,
   "id": "bebcd0db",
   "metadata": {},
   "outputs": [
    {
     "data": {
      "text/plain": [
       "(25000, 10)"
      ]
     },
     "execution_count": 10,
     "metadata": {},
     "output_type": "execute_result"
    }
   ],
   "source": [
    "df_test.shape"
   ]
  },
  {
   "cell_type": "code",
   "execution_count": 11,
   "id": "56bcb8ee",
   "metadata": {},
   "outputs": [],
   "source": [
    "#df_test.head()"
   ]
  },
  {
   "cell_type": "code",
   "execution_count": 12,
   "id": "f5711e87",
   "metadata": {},
   "outputs": [],
   "source": [
    "df_test.drop(['ProductId', 'UserId', 'ProfileName', 'HelpfulnessNumerator', 'HelpfulnessDenominator', 'Time', 'Summary'], axis=1, inplace=True)"
   ]
  },
  {
   "cell_type": "code",
   "execution_count": 13,
   "id": "a10ff025",
   "metadata": {},
   "outputs": [],
   "source": [
    "df_test.loc[df_test['Score'] == 1, 'Sentiment'] = 'Negative'\n",
    "df_test.loc[df_test['Score'] == 2, 'Sentiment'] = 'Negative'\n",
    "df_test.loc[df_test['Score'] == 3, 'Sentiment'] = 'Neutral'\n",
    "df_test.loc[df_test['Score'] == 4, 'Sentiment'] = 'Positive'\n",
    "df_test.loc[df_test['Score'] == 5, 'Sentiment'] = 'Positive'"
   ]
  },
  {
   "cell_type": "code",
   "execution_count": 14,
   "id": "0f7a9273",
   "metadata": {},
   "outputs": [
    {
     "name": "stdout",
     "output_type": "stream",
     "text": [
      "3788\n"
     ]
    }
   ],
   "source": [
    "df_negative = len(df_test[df_test[\"Sentiment\"]==\"Negative\"])\n",
    "print(df_negative)"
   ]
  },
  {
   "cell_type": "code",
   "execution_count": 15,
   "id": "56cd818f",
   "metadata": {},
   "outputs": [
    {
     "name": "stdout",
     "output_type": "stream",
     "text": [
      "1946\n"
     ]
    }
   ],
   "source": [
    "df_neutral = len(df_test[df_test[\"Sentiment\"]==\"Neutral\"])\n",
    "print(df_neutral)"
   ]
  },
  {
   "cell_type": "code",
   "execution_count": 16,
   "id": "7f212f8a",
   "metadata": {},
   "outputs": [
    {
     "name": "stdout",
     "output_type": "stream",
     "text": [
      "19266\n"
     ]
    }
   ],
   "source": [
    "df_positive = len(df_test[df_test[\"Sentiment\"]==\"Positive\"])\n",
    "print(df_positive)"
   ]
  },
  {
   "cell_type": "code",
   "execution_count": 17,
   "id": "f560d762",
   "metadata": {},
   "outputs": [
    {
     "name": "stdout",
     "output_type": "stream",
     "text": [
      "class 0: (19266, 4)\n",
      "class 1: (1946, 4)\n",
      "class 2: (3788, 4)\n"
     ]
    }
   ],
   "source": [
    "# class count\n",
    "class_count_0, class_count_1, class_count_2 = df_test['Sentiment'].value_counts()\n",
    "\n",
    "# Separate class\n",
    "class_0 = df_test[df_test['Sentiment'] == 'Positive']\n",
    "class_1 = df_test[df_test['Sentiment'] == 'Neutral']\n",
    "class_2 = df_test[df_test['Sentiment'] == 'Negative']\n",
    "# print the shape of the class\n",
    "print('class 0:', class_0.shape)\n",
    "print('class 1:', class_1.shape)\n",
    "print('class 2:', class_2.shape)"
   ]
  },
  {
   "cell_type": "code",
   "execution_count": 18,
   "id": "d3380dc3",
   "metadata": {},
   "outputs": [],
   "source": [
    "#class_0_under = random.sample(class_0, class_count_2)\n",
    "#rows = random.sample(data, int(len(data)*sample_split))\n",
    "#test_under = pd.concat([class_0_under, class_2], axis=0)\n",
    "\n",
    "#print(\"total class of 0 and 2:\",test_under['Sentiment'].value_counts())\n",
    "# plot the count after under-sampeling\n",
    "#test_under['Sentiment'].value_counts().plot(kind='bar', title='count (target)')"
   ]
  },
  {
   "cell_type": "code",
   "execution_count": 19,
   "id": "d17a8364",
   "metadata": {},
   "outputs": [
    {
     "data": {
      "text/plain": [
       "15000"
      ]
     },
     "execution_count": 19,
     "metadata": {},
     "output_type": "execute_result"
    }
   ],
   "source": [
    "size = class_count_0 - (10000 - class_count_1 - class_count_2)\n",
    "size"
   ]
  },
  {
   "cell_type": "code",
   "execution_count": 20,
   "id": "1c9d66c5",
   "metadata": {},
   "outputs": [],
   "source": [
    "class_0_short = class_0.drop(class_0.index[range(size)])"
   ]
  },
  {
   "cell_type": "code",
   "execution_count": 21,
   "id": "d233112c",
   "metadata": {},
   "outputs": [
    {
     "data": {
      "text/plain": [
       "(4266, 4)"
      ]
     },
     "execution_count": 21,
     "metadata": {},
     "output_type": "execute_result"
    }
   ],
   "source": [
    "class_0_short.shape"
   ]
  },
  {
   "cell_type": "code",
   "execution_count": 22,
   "id": "1ccc4aea",
   "metadata": {},
   "outputs": [
    {
     "name": "stdout",
     "output_type": "stream",
     "text": [
      "class 0: (4266, 4)\n",
      "class 1: (1946, 4)\n",
      "class 2: (3788, 4)\n"
     ]
    }
   ],
   "source": [
    "print('class 0:', class_0_short.shape)\n",
    "print('class 1:', class_1.shape)\n",
    "print('class 2:', class_2.shape)"
   ]
  },
  {
   "cell_type": "code",
   "execution_count": 23,
   "id": "ec880317",
   "metadata": {},
   "outputs": [],
   "source": [
    "frames = [class_0_short, class_1, class_2]\n",
    "result = pd.concat(frames)"
   ]
  },
  {
   "cell_type": "code",
   "execution_count": 24,
   "id": "02f93a6c",
   "metadata": {},
   "outputs": [],
   "source": [
    "df_test = result.copy()"
   ]
  },
  {
   "cell_type": "code",
   "execution_count": 25,
   "id": "3800c1cc",
   "metadata": {},
   "outputs": [
    {
     "data": {
      "text/plain": [
       "(10000, 4)"
      ]
     },
     "execution_count": 25,
     "metadata": {},
     "output_type": "execute_result"
    }
   ],
   "source": [
    "df_test.shape"
   ]
  },
  {
   "cell_type": "code",
   "execution_count": 26,
   "id": "e9c1c9a6",
   "metadata": {},
   "outputs": [],
   "source": [
    "#df_test.head()"
   ]
  },
  {
   "cell_type": "code",
   "execution_count": 27,
   "id": "79a56ef1",
   "metadata": {},
   "outputs": [
    {
     "data": {
      "text/plain": [
       "39570    IN THE PAST I HAVE HAD TROUBLE WITH OTHER COMP...\n",
       "39573    I must admit my purchase was made out of curio...\n",
       "39574    I discovered Ambrosia custard while in Ireland...\n",
       "39575    A friend from England ordered this custard for...\n",
       "39576    This is a very rich version of British \"custar...\n",
       "39577    A delicately flavored custard that is wonderfu...\n",
       "39578    I do a lot of grocery shopping at a nearby Fre...\n",
       "39579    This is great over the sponge cake, but also b...\n",
       "39580    I live in the UK and buy this custard for my s...\n",
       "39581    Very pleased with this vendor's service.  We h...\n",
       "Name: Text, dtype: object"
      ]
     },
     "execution_count": 27,
     "metadata": {},
     "output_type": "execute_result"
    }
   ],
   "source": [
    "df_test[\"Text\"][:10]"
   ]
  },
  {
   "cell_type": "code",
   "execution_count": 28,
   "id": "7683d013",
   "metadata": {},
   "outputs": [],
   "source": [
    "#df_test[\"Text\"][0]"
   ]
  },
  {
   "cell_type": "code",
   "execution_count": 29,
   "id": "21a54f5e",
   "metadata": {},
   "outputs": [],
   "source": [
    "#df_test[\"Text\"][1]"
   ]
  },
  {
   "cell_type": "code",
   "execution_count": 30,
   "id": "8c80ba36",
   "metadata": {},
   "outputs": [],
   "source": [
    "#df_test[\"Text\"][2]"
   ]
  },
  {
   "cell_type": "code",
   "execution_count": null,
   "id": "09d6c72b",
   "metadata": {},
   "outputs": [],
   "source": []
  },
  {
   "cell_type": "code",
   "execution_count": null,
   "id": "b031ce7e",
   "metadata": {},
   "outputs": [],
   "source": []
  },
  {
   "cell_type": "code",
   "execution_count": 31,
   "id": "b91bca8f",
   "metadata": {},
   "outputs": [],
   "source": [
    "def preprocess_text(text):\n",
    "    text = text.lower()\n",
    "    text = re.sub('[^a-zA-Z]', ' ', text)\n",
    "    words = text.split()\n",
    "    words = [w for w in words if w not in stop_words]\n",
    "    words = [lemmatizer.lemmatize(w) for w in words]\n",
    "    #text = ' '.join(words)\n",
    "    return text.split()"
   ]
  },
  {
   "cell_type": "code",
   "execution_count": 32,
   "id": "0b9d6608",
   "metadata": {},
   "outputs": [],
   "source": [
    "def make_vocabulary(corpus):\n",
    "    unique_tokens = sorted(set( t for token_list in corpus for t in token_list))\n",
    "    token_to_id = { v:i for i,v in enumerate(unique_tokens)}\n",
    "    return token_to_id"
   ]
  },
  {
   "cell_type": "code",
   "execution_count": 33,
   "id": "fa119ea4",
   "metadata": {},
   "outputs": [],
   "source": [
    "def doc_frequency(corpus):\n",
    "    return Counter(token for sublist in corpus for token in set(sublist))"
   ]
  },
  {
   "cell_type": "code",
   "execution_count": 34,
   "id": "f3542f56",
   "metadata": {},
   "outputs": [],
   "source": [
    "def text_pipeline_spacy(text):\n",
    "    tokens = []\n",
    "    doc = nlp(text)\n",
    "    for t in doc:\n",
    "        if not t.is_stop and not t.is_punct and not t.is_space:\n",
    "            tokens.append(t.lemma_.lower())\n",
    "    return tokens"
   ]
  },
  {
   "cell_type": "code",
   "execution_count": 35,
   "id": "848a3d4c",
   "metadata": {},
   "outputs": [],
   "source": [
    "def make_tf_sparse(tokens, vocab):\n",
    "    vect = Counter(tokens)\n",
    "    sparse = { vocab[t]:c for t,c in vect.items()}\n",
    "    return sparse"
   ]
  },
  {
   "cell_type": "code",
   "execution_count": 36,
   "id": "2df37328",
   "metadata": {},
   "outputs": [],
   "source": [
    "def make_tfidf_sparse(tokens, vocab, doc_freq, N):\n",
    "    sparse_vector = {}\n",
    "    counts = Counter(tokens)\n",
    "    for t,c in counts.items():\n",
    "        tf = 1 + math.log10(c) if c > 0 else 0\n",
    "        idf = math.log10( N / doc_freq[t] )\n",
    "        sparse_vector[vocab[t]] = tf*idf\n",
    "    return sparse_vector"
   ]
  },
  {
   "cell_type": "code",
   "execution_count": 37,
   "id": "fc803a5d",
   "metadata": {},
   "outputs": [],
   "source": [
    "def sparse_euclidean_distance(sv1, sv2):\n",
    "    d2 = 0\n",
    "    indices = set(sv1).union(sv2)\n",
    "    for i in indices:\n",
    "        diff = sv2.get(i,0) - sv1.get(i,0)\n",
    "        d2 += diff * diff\n",
    "    return math.sqrt(d2)"
   ]
  },
  {
   "cell_type": "code",
   "execution_count": 38,
   "id": "08b75387",
   "metadata": {},
   "outputs": [],
   "source": [
    "def normalize_sparse_vector(sv):\n",
    "    d = math.sqrt(sum(val*val for index,val in sv.items()))\n",
    "    norm_vect = { index:val/d for index,val in sv.items()}\n",
    "    return norm_vect"
   ]
  },
  {
   "cell_type": "code",
   "execution_count": 39,
   "id": "971fbd5a",
   "metadata": {},
   "outputs": [],
   "source": [
    "def union_vectors(sparse_vectors):\n",
    "    return set().union(*sparse_vectors)"
   ]
  },
  {
   "cell_type": "code",
   "execution_count": 40,
   "id": "01091b8c",
   "metadata": {},
   "outputs": [],
   "source": [
    "def sparse_to_dense(sv, vector_length):\n",
    "    dense_vector = []\n",
    "    for index in range(vector_length):\n",
    "        dense_vector.append(sv.get(index,0))\n",
    "    return dense_vector"
   ]
  },
  {
   "cell_type": "code",
   "execution_count": 41,
   "id": "ca638ee0",
   "metadata": {},
   "outputs": [],
   "source": [
    "def text_pipeline_spacy(text):\n",
    "    tokens = []\n",
    "    doc = nlp(text)\n",
    "    for t in doc:\n",
    "        if not t.is_stop and not t.is_punct and not t.is_space:\n",
    "            tokens.append(t.lemma_.lower())\n",
    "    return tokens"
   ]
  },
  {
   "cell_type": "code",
   "execution_count": 42,
   "id": "ac70fa81",
   "metadata": {},
   "outputs": [],
   "source": [
    "#df_test['Text'][1]"
   ]
  },
  {
   "cell_type": "code",
   "execution_count": 43,
   "id": "a342646a",
   "metadata": {},
   "outputs": [],
   "source": [
    "#tokenized = [ text_pipeline_spacy(x) for x in df_test['Text'] ]\n",
    "\n",
    "vectorizer = TfidfVectorizer()\n",
    "#df_test['tokenized'] = df_test['Text'].apply(preprocess_text)\n",
    "sparse_tf_idf = vectorizer.fit_transform(df_test['Text'])"
   ]
  },
  {
   "cell_type": "code",
   "execution_count": 44,
   "id": "7f36e254",
   "metadata": {},
   "outputs": [
    {
     "name": "stdout",
     "output_type": "stream",
     "text": [
      "10000\n",
      "20007\n"
     ]
    }
   ],
   "source": [
    "print(sparse_tf_idf.shape[0])\n",
    "print(sparse_tf_idf.shape[1])"
   ]
  },
  {
   "cell_type": "code",
   "execution_count": 45,
   "id": "e8f5807d",
   "metadata": {},
   "outputs": [
    {
     "data": {
      "text/plain": [
       "<1x20007 sparse matrix of type '<class 'numpy.float64'>'\n",
       "\twith 57 stored elements in Compressed Sparse Row format>"
      ]
     },
     "execution_count": 45,
     "metadata": {},
     "output_type": "execute_result"
    }
   ],
   "source": [
    "sparse_tf_idf[0]"
   ]
  },
  {
   "cell_type": "code",
   "execution_count": null,
   "id": "f51f8bc2",
   "metadata": {},
   "outputs": [],
   "source": []
  },
  {
   "cell_type": "code",
   "execution_count": 46,
   "id": "bfdad197",
   "metadata": {},
   "outputs": [
    {
     "name": "stdout",
     "output_type": "stream",
     "text": [
      "[[0. 0. 0. ... 0. 0. 0.]\n",
      " [0. 0. 0. ... 0. 0. 0.]\n",
      " [0. 0. 0. ... 0. 0. 0.]\n",
      " [0. 0. 0. ... 0. 0. 0.]\n",
      " [0. 0. 0. ... 0. 0. 0.]]\n"
     ]
    }
   ],
   "source": [
    "# set the number of clusters (k)\n",
    "k = 5\n",
    "\n",
    "# initialize the centroids\n",
    "#centroids = np.random.randint(tfidf.shape[0], size=k)\n",
    "\n",
    "#rand = np.random.randint(sparse_tf_idf.shape[0], size = k)\n",
    "#centroids = np.array([sparse_tf_idf[i].todense() for i in rand])\n",
    "\n",
    "rand = np.random.choice(sparse_tf_idf.shape[0], k, replace=False)\n",
    "centroids = np.array(sparse_tf_idf[rand].todense())\n",
    "\n",
    "# assign each vector to its closest centroid\n",
    "clusters = np.zeros(sparse_tf_idf.shape[0])\n",
    "old_clusters = np.zeros(sparse_tf_idf.shape[0])\n",
    "\n",
    "print(centroids)"
   ]
  },
  {
   "cell_type": "code",
   "execution_count": 47,
   "id": "93cf19b0",
   "metadata": {},
   "outputs": [],
   "source": [
    "#print(centroids.mean(axis=1))"
   ]
  },
  {
   "cell_type": "code",
   "execution_count": 48,
   "id": "91d300a3",
   "metadata": {},
   "outputs": [
    {
     "name": "stdout",
     "output_type": "stream",
     "text": [
      "\n",
      "\n",
      "1658\n",
      "5387\n",
      "466\n",
      "990\n",
      "1499\n",
      "\n",
      "\n",
      "sum :  10000\n",
      "[ 5.27260487 11.44735752  4.43897864  6.0254687   6.29215263]\n",
      "[5.80824926 6.51827304 5.42450906 6.21844112 6.14812366]\n",
      "\n",
      "\n",
      "2075\n",
      "3390\n",
      "837\n",
      "1902\n",
      "1796\n",
      "\n",
      "\n",
      "sum :  10000\n",
      "old_clusters :\n",
      " [1. 1. 2. ... 3. 4. 1.]\n",
      "clusters :\n",
      " [1. 1. 2. ... 3. 4. 1.]\n",
      "1\n"
     ]
    }
   ],
   "source": [
    "loop = 0\n",
    "while True:\n",
    "    for i, vector in enumerate(sparse_tf_idf):\n",
    "        # Compute the distance between each vector to all k centroids\n",
    "        distances = np.linalg.norm(vector.todense() - centroids, axis=1)\n",
    "        # Assign each vector to the closest centroid\n",
    "        clusters[i] = np.argmin(distances)\n",
    "    #print(clusters)\n",
    "    \n",
    "    #zeros = [z for z in clusters if z==0]\n",
    "    #ones = [z for z in clusters if z==1]\n",
    "    #twos = [z for z in clusters if z==2]\n",
    "\n",
    "    zeros = list(clusters).count(0)\n",
    "    ones = list(clusters).count(1)\n",
    "    twos = list(clusters).count(2)\n",
    "    threes = list(clusters).count(3)\n",
    "    fours = list(clusters).count(4)\n",
    "    print('\\n')\n",
    "    print(zeros)\n",
    "    print(ones)\n",
    "    print(twos)\n",
    "    print(threes)\n",
    "    print(fours)\n",
    "    print('\\n')\n",
    "    print('sum : ', zeros+ones+twos+threes+fours)\n",
    "    \n",
    "    #print(\"old_clusters :\\n\", old_clusters)\n",
    "    #print(\"clusters :\\n\", clusters)\n",
    "    \n",
    "    # Check when equilibrium is found\n",
    "    if (old_clusters == clusters).all():\n",
    "        break\n",
    "\n",
    "    # Keep previous assignment of vectors to centroids in memory to compare\n",
    "    old_clusters = clusters\n",
    "    \n",
    "    # Update the value of centroids using their respectively assigned vectors\n",
    "    print(centroids.sum(axis=1))\n",
    "    for cluster in range(k):\n",
    "        index_cluster = clusters == cluster\n",
    "        cluster_data = sparse_tf_idf[index_cluster]\n",
    "        # Each centroid is the updated to be the mean of its assigned vectors\n",
    "        centroids[cluster] = np.array(cluster_data.mean(axis=0))\n",
    "    print(centroids.sum(axis=1))\n",
    "    loop += 1\n",
    "\n",
    "print(\"old_clusters :\\n\", old_clusters)\n",
    "print(\"clusters :\\n\", clusters)\n",
    "print(loop)"
   ]
  },
  {
   "cell_type": "code",
   "execution_count": 49,
   "id": "28a5f8ca",
   "metadata": {},
   "outputs": [
    {
     "name": "stdout",
     "output_type": "stream",
     "text": [
      "(10000,)\n",
      "(10000,)\n"
     ]
    }
   ],
   "source": [
    "print(clusters.shape)\n",
    "print(old_clusters.shape)"
   ]
  },
  {
   "cell_type": "code",
   "execution_count": 50,
   "id": "fe00f049",
   "metadata": {},
   "outputs": [
    {
     "name": "stdout",
     "output_type": "stream",
     "text": [
      "[False False False ... False False False]\n",
      "[ True  True False ... False False  True]\n",
      "[False False  True ... False False False]\n",
      "[False False False ...  True False False]\n",
      "[False False False ... False  True False]\n"
     ]
    }
   ],
   "source": [
    "cluster_data = []\n",
    "for val in range(k):\n",
    "    ind_cluster = clusters == val\n",
    "    print(ind_cluster)\n",
    "    cluster_data.append(df_test[ind_cluster])\n"
   ]
  },
  {
   "cell_type": "code",
   "execution_count": 51,
   "id": "8bb446c6",
   "metadata": {},
   "outputs": [],
   "source": [
    "res = []\n",
    "for i in range(k):\n",
    "    p, neu, neg = 0, 0, 0\n",
    "    for sentiment in cluster_data[i]['Sentiment']:\n",
    "        if sentiment == 'Positive': p += 1\n",
    "        if sentiment == 'Neutral': neu += 1\n",
    "        if sentiment == 'Negative': neg += 1\n",
    "    res.append([p, neu, neg])"
   ]
  },
  {
   "cell_type": "code",
   "execution_count": 52,
   "id": "e5611c12",
   "metadata": {},
   "outputs": [
    {
     "name": "stdout",
     "output_type": "stream",
     "text": [
      "[911, 427, 737] 2075\n",
      "[1471, 647, 1272] 3390\n",
      "[448, 134, 255] 837\n",
      "[833, 415, 654] 1902\n",
      "[603, 323, 870] 1796\n"
     ]
    }
   ],
   "source": [
    "for r in res:\n",
    "    print(r, np.sum(r))"
   ]
  },
  {
   "cell_type": "code",
   "execution_count": 53,
   "id": "7819f90d",
   "metadata": {},
   "outputs": [
    {
     "name": "stdout",
     "output_type": "stream",
     "text": [
      "3.2274698795180723\n",
      "3.176401179941003\n",
      "3.4599761051373954\n",
      "3.2365930599369084\n",
      "2.7839643652561246\n"
     ]
    }
   ],
   "source": [
    "print(cluster_data[0]['Score'].mean())\n",
    "print(cluster_data[1]['Score'].mean())\n",
    "print(cluster_data[2]['Score'].mean())\n",
    "print(cluster_data[3]['Score'].mean())\n",
    "print(cluster_data[4]['Score'].mean())\n"
   ]
  },
  {
   "cell_type": "code",
   "execution_count": 54,
   "id": "8c668934",
   "metadata": {},
   "outputs": [],
   "source": [
    "#print(actual)\n",
    "#print(predicted)"
   ]
  },
  {
   "cell_type": "code",
   "execution_count": 55,
   "id": "dc5c021b",
   "metadata": {},
   "outputs": [],
   "source": [
    "actual = np.array(list(df_test['Sentiment']))"
   ]
  },
  {
   "cell_type": "code",
   "execution_count": 56,
   "id": "fde9f1f8",
   "metadata": {},
   "outputs": [],
   "source": [
    "predicted = []\n",
    "for val in clusters:\n",
    "    if val==0 or val==1:\n",
    "        predicted.append('Negative')\n",
    "    if val==2:\n",
    "        predicted.append('Neutral')\n",
    "    if val==3 or val==4:\n",
    "        predicted.append('Positive')"
   ]
  },
  {
   "cell_type": "code",
   "execution_count": 57,
   "id": "8197c21e",
   "metadata": {},
   "outputs": [
    {
     "data": {
      "text/plain": [
       "10000"
      ]
     },
     "execution_count": 57,
     "metadata": {},
     "output_type": "execute_result"
    }
   ],
   "source": [
    "len(actual)"
   ]
  },
  {
   "cell_type": "code",
   "execution_count": 58,
   "id": "30129add",
   "metadata": {},
   "outputs": [
    {
     "data": {
      "text/plain": [
       "10000"
      ]
     },
     "execution_count": 58,
     "metadata": {},
     "output_type": "execute_result"
    }
   ],
   "source": [
    "len(list(df_test['Sentiment']))"
   ]
  },
  {
   "cell_type": "code",
   "execution_count": 59,
   "id": "17956e03",
   "metadata": {},
   "outputs": [
    {
     "data": {
      "text/plain": [
       "10000"
      ]
     },
     "execution_count": 59,
     "metadata": {},
     "output_type": "execute_result"
    }
   ],
   "source": [
    "len(predicted)"
   ]
  },
  {
   "cell_type": "code",
   "execution_count": 60,
   "id": "df2d66f5",
   "metadata": {},
   "outputs": [
    {
     "data": {
      "image/png": "[encoded data removed]",
      "text/plain": [
       "<Figure size 432x288 with 2 Axes>"
      ]
     },
     "metadata": {
      "needs_background": "light"
     },
     "output_type": "display_data"
    }
   ],
   "source": [
    "\n",
    "label_1 = ['cluster_1', 'cluster_2', 'cluster_3', 'cluster_4', 'cluster_5']\n",
    "label_2 = ['Positive', 'Neutral', 'Negative']\n",
    "fig = plt.figure()\n",
    "ax = fig.add_subplot(111)\n",
    "cax = ax.matshow(np.array(res).transpose())\n",
    "plt.title('Confusion matrix of the classifier')\n",
    "fig.colorbar(cax)\n",
    "ax.set_xticklabels([''] + label_1)\n",
    "ax.set_yticklabels([''] + label_2)\n",
    "plt.xlabel('Predicted')\n",
    "plt.ylabel('True')\n",
    "plt.show()"
   ]
  },
  {
   "cell_type": "code",
   "execution_count": null,
   "id": "8f8c1f65",
   "metadata": {},
   "outputs": [],
   "source": []
  },
  {
   "cell_type": "code",
   "execution_count": null,
   "id": "f2e65dc1",
   "metadata": {},
   "outputs": [],
   "source": []
  },
  {
   "cell_type": "code",
   "execution_count": null,
   "id": "98fe4c02",
   "metadata": {},
   "outputs": [],
   "source": []
  },
  {
   "cell_type": "code",
   "execution_count": null,
   "id": "a29008eb",
   "metadata": {},
   "outputs": [],
   "source": []
  },
  {
   "cell_type": "code",
   "execution_count": null,
   "id": "256b62d9",
   "metadata": {},
   "outputs": [],
   "source": []
  },
  {
   "cell_type": "code",
   "execution_count": null,
   "id": "48327c5e",
   "metadata": {},
   "outputs": [],
   "source": []
  },
  {
   "cell_type": "code",
   "execution_count": null,
   "id": "5a885df4",
   "metadata": {},
   "outputs": [],
   "source": []
  },
  {
   "cell_type": "code",
   "execution_count": null,
   "id": "8a52af96",
   "metadata": {},
   "outputs": [],
   "source": []
  },
  {
   "cell_type": "code",
   "execution_count": null,
   "id": "83606449",
   "metadata": {},
   "outputs": [],
   "source": []
  },
  {
   "cell_type": "code",
   "execution_count": null,
   "id": "e0fb68ed",
   "metadata": {},
   "outputs": [],
   "source": []
  },
  {
   "cell_type": "code",
   "execution_count": null,
   "id": "d52a01e6",
   "metadata": {},
   "outputs": [],
   "source": []
  },
  {
   "cell_type": "code",
   "execution_count": null,
   "id": "4dec7c07",
   "metadata": {},
   "outputs": [],
   "source": []
  },
  {
   "cell_type": "code",
   "execution_count": null,
   "id": "0a94498a",
   "metadata": {},
   "outputs": [],
   "source": []
  },
  {
   "cell_type": "code",
   "execution_count": null,
   "id": "2dbde891",
   "metadata": {},
   "outputs": [],
   "source": []
  },
  {
   "cell_type": "code",
   "execution_count": null,
   "id": "82aa3cb8",
   "metadata": {},
   "outputs": [],
   "source": []
  },
  {
   "cell_type": "code",
   "execution_count": null,
   "id": "87871621",
   "metadata": {},
   "outputs": [],
   "source": []
  },
  {
   "cell_type": "code",
   "execution_count": null,
   "id": "be5eaf76",
   "metadata": {},
   "outputs": [],
   "source": []
  },
  {
   "cell_type": "code",
   "execution_count": null,
   "id": "379bd64c",
   "metadata": {},
   "outputs": [],
   "source": []
  },
  {
   "cell_type": "code",
   "execution_count": null,
   "id": "c90a93f2",
   "metadata": {},
   "outputs": [],
   "source": []
  },
  {
   "cell_type": "code",
   "execution_count": 61,
   "id": "d1ac3448",
   "metadata": {},
   "outputs": [],
   "source": [
    "#df_test['tokenized'] = df_test['Text'].apply(preprocess_text)"
   ]
  },
  {
   "cell_type": "code",
   "execution_count": 62,
   "id": "55d477d9",
   "metadata": {},
   "outputs": [],
   "source": [
    "#voc_1000 = make_vocabulary(df_test[\"tokenized\"])"
   ]
  },
  {
   "cell_type": "code",
   "execution_count": 63,
   "id": "7be55cb0",
   "metadata": {},
   "outputs": [],
   "source": [
    "#doc_freq = doc_frequency(df_test[\"tokenized\"])"
   ]
  },
  {
   "cell_type": "code",
   "execution_count": 64,
   "id": "9c4d0d50",
   "metadata": {},
   "outputs": [],
   "source": [
    "#sparse_tfidf_matrix = []\n",
    "#for i in range(len(df_test)):\n",
    "#    sparse_tfidf_matrix.append(make_tfidf_sparse(df_test['tokenized'][i], voc_1000, doc_freq, 10))"
   ]
  },
  {
   "cell_type": "code",
   "execution_count": null,
   "id": "d45c37cc",
   "metadata": {},
   "outputs": [],
   "source": []
  },
  {
   "cell_type": "code",
   "execution_count": 65,
   "id": "e4017085",
   "metadata": {},
   "outputs": [],
   "source": [
    "#jai mes vectors sparse dans mon plan\n",
    "#jajoute mes centroids de maniere random et qui prennent tous trois des valeurs de vecteurs sparse. \n",
    "#loop:\n",
    "#    jassigne chacun des vecteurs à leur centroids le plus proche\n",
    "#    je réajuste les centroids comme la moyenne des vectuers qui leur sont associés\n",
    "#    si le tableau d'assignation des vecteurs aux centroids est constant entre deux etapes, break"
   ]
  },
  {
   "cell_type": "code",
   "execution_count": null,
   "id": "03b6775e",
   "metadata": {},
   "outputs": [],
   "source": []
  },
  {
   "cell_type": "code",
   "execution_count": null,
   "id": "669911af",
   "metadata": {},
   "outputs": [],
   "source": []
  },
  {
   "cell_type": "code",
   "execution_count": null,
   "id": "83daa1c8",
   "metadata": {},
   "outputs": [],
   "source": []
  },
  {
   "cell_type": "code",
   "execution_count": null,
   "id": "5ee08f0d",
   "metadata": {},
   "outputs": [],
   "source": []
  },
  {
   "cell_type": "code",
   "execution_count": null,
   "id": "b415ab13",
   "metadata": {},
   "outputs": [],
   "source": []
  },
  {
   "cell_type": "code",
   "execution_count": null,
   "id": "3d3a0402",
   "metadata": {},
   "outputs": [],
   "source": []
  },
  {
   "cell_type": "code",
   "execution_count": null,
   "id": "0302f13c",
   "metadata": {},
   "outputs": [],
   "source": []
  },
  {
   "cell_type": "code",
   "execution_count": null,
   "id": "655fb261",
   "metadata": {},
   "outputs": [],
   "source": []
  },
  {
   "cell_type": "code",
   "execution_count": null,
   "id": "20d3d4fa",
   "metadata": {},
   "outputs": [],
   "source": []
  },
  {
   "cell_type": "code",
   "execution_count": null,
   "id": "004f926d",
   "metadata": {},
   "outputs": [],
   "source": []
  },
  {
   "cell_type": "code",
   "execution_count": null,
   "id": "37b3c3ff",
   "metadata": {},
   "outputs": [],
   "source": []
  },
  {
   "cell_type": "code",
   "execution_count": null,
   "id": "3c88c9fb",
   "metadata": {},
   "outputs": [],
   "source": []
  },
  {
   "cell_type": "code",
   "execution_count": null,
   "id": "41521d6b",
   "metadata": {},
   "outputs": [],
   "source": []
  },
  {
   "cell_type": "code",
   "execution_count": null,
   "id": "b612c462",
   "metadata": {},
   "outputs": [],
   "source": []
  },
  {
   "cell_type": "code",
   "execution_count": null,
   "id": "1013364a",
   "metadata": {},
   "outputs": [],
   "source": []
  },
  {
   "cell_type": "code",
   "execution_count": null,
   "id": "ea658017",
   "metadata": {},
   "outputs": [],
   "source": []
  },
  {
   "cell_type": "code",
   "execution_count": null,
   "id": "b8bea307",
   "metadata": {},
   "outputs": [],
   "source": []
  },
  {
   "cell_type": "code",
   "execution_count": null,
   "id": "38f5b146",
   "metadata": {},
   "outputs": [],
   "source": []
  },
  {
   "cell_type": "code",
   "execution_count": null,
   "id": "da4d5e80",
   "metadata": {},
   "outputs": [],
   "source": []
  },
  {
   "cell_type": "code",
   "execution_count": 66,
   "id": "4fb7f817",
   "metadata": {},
   "outputs": [],
   "source": [
    "## Question 3 - Comparing classifiers"
   ]
  },
  {
   "cell_type": "code",
   "execution_count": 67,
   "id": "dece65bd",
   "metadata": {},
   "outputs": [],
   "source": [
    "from sklearn.model_selection import train_test_split, cross_val_score\n",
    "from sklearn.dummy import DummyClassifier\n",
    "from sklearn.metrics import accuracy_score, precision_score, recall_score, f1_score\n",
    "\n",
    "whole_df = pd.read_csv('/home/sebastien/Documents/Glasgow/Semester2/Text_As_Data/coursework/archive/Reviews.csv')\n",
    "df = whole_df[:10000]\n",
    "#shuffled_reviews = random.sample(df, k=len(df))\n",
    "\n",
    "df.drop(['ProductId', 'UserId', 'ProfileName', 'HelpfulnessNumerator', 'HelpfulnessDenominator', 'Time', 'Summary'], axis=1, inplace=True)\n",
    "df.loc[df['Score'] == 1, 'Sentiment'] = 'Negative'\n",
    "df.loc[df['Score'] == 2, 'Sentiment'] = 'Negative'\n",
    "df.loc[df['Score'] == 3, 'Sentiment'] = 'Neutral'\n",
    "df.loc[df['Score'] == 4, 'Sentiment'] = 'Positive'\n",
    "df.loc[df['Score'] == 5, 'Sentiment'] = 'Positive'\n",
    "\n",
    "train_frac = 0.6\n",
    "validation_frac= 0.8\n",
    "split_idx = int(train_frac * len(df))\n",
    "split_idxx = int(validation_frac * len(df))\n",
    "train_reviews = df[:split_idx]\n",
    "validation_reviews = df[split_idx:split_idxx]"
   ]
  },
  {
   "cell_type": "code",
   "execution_count": 73,
   "id": "e52a5352",
   "metadata": {},
   "outputs": [
    {
     "name": "stdout",
     "output_type": "stream",
     "text": [
      "Accuracy: 0.77\n",
      "Precision: 0.26\n",
      "Recall: 0.33\n",
      "F1-score: 0.29\n"
     ]
    }
   ],
   "source": [
    "# Split the dataset into training and testing sets\n",
    "X_train, X_test, y_train, y_test = train_test_split(train_reviews.Text, train_reviews.Sentiment, test_size=0.25, random_state=42)\n",
    "\n",
    "# Instantiate the dummy classifier with strategy=\"most_frequent\"\n",
    "dummy = DummyClassifier(strategy=\"most_frequent\")\n",
    "\n",
    "# Train the classifier on the training data\n",
    "dummy.fit(X_train, y_train)\n",
    "\n",
    "# Use the classifier to predict the labels for the testing data\n",
    "y_pred = dummy.predict(X_test)\n",
    " \n",
    "accuracy = accuracy_score(y_test, y_pred)\n",
    "precision = precision_score(y_test, y_pred, average='macro')\n",
    "recall = recall_score(y_test, y_pred, average='macro')\n",
    "f1 = f1_score(y_test, y_pred, average='macro')\n",
    "\n",
    "print(f\"Accuracy: {accuracy:.2f}\")\n",
    "print(f\"Precision: {precision:.2f}\")\n",
    "print(f\"Recall: {recall:.2f}\")\n",
    "print(f\"F1-score: {f1:.2f}\")\n"
   ]
  },
  {
   "cell_type": "code",
   "execution_count": null,
   "id": "0b538dc8",
   "metadata": {},
   "outputs": [],
   "source": []
  },
  {
   "cell_type": "code",
   "execution_count": 74,
   "id": "e8f14e4a",
   "metadata": {},
   "outputs": [
    {
     "name": "stdout",
     "output_type": "stream",
     "text": [
      "Accuracy: 0.62\n",
      "Precision: 0.34\n",
      "Recall: 0.34\n",
      "F1-score: 0.34\n"
     ]
    }
   ],
   "source": [
    "# Split the dataset into training and testing sets\n",
    "X_train, X_test, y_train, y_test = train_test_split(train_reviews.Text, train_reviews.Sentiment, test_size=0.25, random_state=42)\n",
    "\n",
    "# Instantiate the dummy classifier with strategy=\"stratified\"\n",
    "dummy = DummyClassifier(strategy=\"stratified\")\n",
    "\n",
    "# Train the classifier on the training data\n",
    "dummy.fit(X_train, y_train)\n",
    "\n",
    "# Use the classifier to predict the labels for the testing data\n",
    "y_pred = dummy.predict(X_test)\n",
    "\n",
    "accuracy = accuracy_score(y_test, y_pred)\n",
    "precision = precision_score(y_test, y_pred, average='macro')\n",
    "recall = recall_score(y_test, y_pred, average='macro')\n",
    "f1 = f1_score(y_test, y_pred, average='macro')\n",
    "\n",
    "print(f\"Accuracy: {accuracy:.2f}\")\n",
    "print(f\"Precision: {precision:.2f}\")\n",
    "print(f\"Recall: {recall:.2f}\")\n",
    "print(f\"F1-score: {f1:.2f}\")\n"
   ]
  },
  {
   "cell_type": "code",
   "execution_count": null,
   "id": "3faba34a",
   "metadata": {},
   "outputs": [],
   "source": []
  },
  {
   "cell_type": "code",
   "execution_count": null,
   "id": "be31e51c",
   "metadata": {},
   "outputs": [],
   "source": []
  },
  {
   "cell_type": "code",
   "execution_count": 75,
   "id": "2bca85f4",
   "metadata": {},
   "outputs": [
    {
     "ename": "ValueError",
     "evalue": "Expected 2D array, got 1D array instead:\narray=[\"I've always wanted to like coconut water - low in calories, high in minerals - but I've just never liked the taste much. The pineapple juice in this really makes a difference. It still needs to be well chilled to be good, but it makes a healthy post-workout drink.\"\n 'I am giving this two stars as my family didnt mind the taste but the texture was so grainy and the biscuts fell apart easily. I was not a fan of the pancakes at all I believe they really didnt have a good flavor. Will not be wasting my money on such a tiny package either when you can but a bigger package of regular mix for less? Not fair to us with allergies in my opinion!!'\n \"These are so nice and creamy!  Usually I don't justify buying k-cups for things like cocoa that you can get cheaper in a packet, but this is so convenient and very good tasting .. way better than most powdered cocoa packets I've tried.  As far as price comparison, it is equivalent to gourmet-types of cocoa that would easily cost $1+ per packet.  I also like that it comes in a variety pack with 3 flavor options.  Highly recommend\"\n ...\n \"Enjoyed the product and they also provided very fast shipping.  I'm about out and need to order more.\"\n \"We love the Earth's Best line in our house. Our 9 mo old daughter  will ONLY eat Earth's Best dinners, and I don't blame her. The smell from both of the other 2 brand was nauseating. I've sampled the Earth's best dinners myself, and they aren't half bad... It is baby food.... The fruit blends and veggie blends are great as well.\"\n 'The chocolate on the stick was all melted and all the sticks were stuck with oneanother. The product and the concept is good but you will be better off buying it from a supermarket or directly get it from someone visiting Japan.'].\nReshape your data either using array.reshape(-1, 1) if your data has a single feature or array.reshape(1, -1) if it contains a single sample.",
     "output_type": "error",
     "traceback": [
      "\u001b[0;31m---------------------------------------------------------------------------\u001b[0m",
      "\u001b[0;31mValueError\u001b[0m                                Traceback (most recent call last)",
      "Input \u001b[0;32mIn [75]\u001b[0m, in \u001b[0;36m<cell line: 10>\u001b[0;34m()\u001b[0m\n\u001b[1;32m      8\u001b[0m \u001b[38;5;66;03m# One-hot encode the features\u001b[39;00m\n\u001b[1;32m      9\u001b[0m one_hot_encoder \u001b[38;5;241m=\u001b[39m OneHotEncoder(sparse\u001b[38;5;241m=\u001b[39m\u001b[38;5;28;01mFalse\u001b[39;00m)\n\u001b[0;32m---> 10\u001b[0m X_train_one_hot \u001b[38;5;241m=\u001b[39m \u001b[43mone_hot_encoder\u001b[49m\u001b[38;5;241;43m.\u001b[39;49m\u001b[43mfit_transform\u001b[49m\u001b[43m(\u001b[49m\u001b[43mX_train\u001b[49m\u001b[43m)\u001b[49m\n\u001b[1;32m     11\u001b[0m X_test_one_hot \u001b[38;5;241m=\u001b[39m one_hot_encoder\u001b[38;5;241m.\u001b[39mtransform(X_test)\n\u001b[1;32m     13\u001b[0m \u001b[38;5;66;03m# Instantiate a LogisticRegression model\u001b[39;00m\n",
      "File \u001b[0;32m~/anaconda3/lib/python3.9/site-packages/sklearn/preprocessing/_encoders.py:488\u001b[0m, in \u001b[0;36mOneHotEncoder.fit_transform\u001b[0;34m(self, X, y)\u001b[0m\n\u001b[1;32m    466\u001b[0m \u001b[38;5;124;03m\"\"\"\u001b[39;00m\n\u001b[1;32m    467\u001b[0m \u001b[38;5;124;03mFit OneHotEncoder to X, then transform X.\u001b[39;00m\n\u001b[1;32m    468\u001b[0m \n\u001b[0;32m   (...)\u001b[0m\n\u001b[1;32m    485\u001b[0m \u001b[38;5;124;03m    returned.\u001b[39;00m\n\u001b[1;32m    486\u001b[0m \u001b[38;5;124;03m\"\"\"\u001b[39;00m\n\u001b[1;32m    487\u001b[0m \u001b[38;5;28mself\u001b[39m\u001b[38;5;241m.\u001b[39m_validate_keywords()\n\u001b[0;32m--> 488\u001b[0m \u001b[38;5;28;01mreturn\u001b[39;00m \u001b[38;5;28;43msuper\u001b[39;49m\u001b[43m(\u001b[49m\u001b[43m)\u001b[49m\u001b[38;5;241;43m.\u001b[39;49m\u001b[43mfit_transform\u001b[49m\u001b[43m(\u001b[49m\u001b[43mX\u001b[49m\u001b[43m,\u001b[49m\u001b[43m \u001b[49m\u001b[43my\u001b[49m\u001b[43m)\u001b[49m\n",
      "File \u001b[0;32m~/anaconda3/lib/python3.9/site-packages/sklearn/base.py:852\u001b[0m, in \u001b[0;36mTransformerMixin.fit_transform\u001b[0;34m(self, X, y, **fit_params)\u001b[0m\n\u001b[1;32m    848\u001b[0m \u001b[38;5;66;03m# non-optimized default implementation; override when a better\u001b[39;00m\n\u001b[1;32m    849\u001b[0m \u001b[38;5;66;03m# method is possible for a given clustering algorithm\u001b[39;00m\n\u001b[1;32m    850\u001b[0m \u001b[38;5;28;01mif\u001b[39;00m y \u001b[38;5;129;01mis\u001b[39;00m \u001b[38;5;28;01mNone\u001b[39;00m:\n\u001b[1;32m    851\u001b[0m     \u001b[38;5;66;03m# fit method of arity 1 (unsupervised transformation)\u001b[39;00m\n\u001b[0;32m--> 852\u001b[0m     \u001b[38;5;28;01mreturn\u001b[39;00m \u001b[38;5;28;43mself\u001b[39;49m\u001b[38;5;241;43m.\u001b[39;49m\u001b[43mfit\u001b[49m\u001b[43m(\u001b[49m\u001b[43mX\u001b[49m\u001b[43m,\u001b[49m\u001b[43m \u001b[49m\u001b[38;5;241;43m*\u001b[39;49m\u001b[38;5;241;43m*\u001b[39;49m\u001b[43mfit_params\u001b[49m\u001b[43m)\u001b[49m\u001b[38;5;241m.\u001b[39mtransform(X)\n\u001b[1;32m    853\u001b[0m \u001b[38;5;28;01melse\u001b[39;00m:\n\u001b[1;32m    854\u001b[0m     \u001b[38;5;66;03m# fit method of arity 2 (supervised transformation)\u001b[39;00m\n\u001b[1;32m    855\u001b[0m     \u001b[38;5;28;01mreturn\u001b[39;00m \u001b[38;5;28mself\u001b[39m\u001b[38;5;241m.\u001b[39mfit(X, y, \u001b[38;5;241m*\u001b[39m\u001b[38;5;241m*\u001b[39mfit_params)\u001b[38;5;241m.\u001b[39mtransform(X)\n",
      "File \u001b[0;32m~/anaconda3/lib/python3.9/site-packages/sklearn/preprocessing/_encoders.py:461\u001b[0m, in \u001b[0;36mOneHotEncoder.fit\u001b[0;34m(self, X, y)\u001b[0m\n\u001b[1;32m    443\u001b[0m \u001b[38;5;124;03m\"\"\"\u001b[39;00m\n\u001b[1;32m    444\u001b[0m \u001b[38;5;124;03mFit OneHotEncoder to X.\u001b[39;00m\n\u001b[1;32m    445\u001b[0m \n\u001b[0;32m   (...)\u001b[0m\n\u001b[1;32m    458\u001b[0m \u001b[38;5;124;03m    Fitted encoder.\u001b[39;00m\n\u001b[1;32m    459\u001b[0m \u001b[38;5;124;03m\"\"\"\u001b[39;00m\n\u001b[1;32m    460\u001b[0m \u001b[38;5;28mself\u001b[39m\u001b[38;5;241m.\u001b[39m_validate_keywords()\n\u001b[0;32m--> 461\u001b[0m \u001b[38;5;28;43mself\u001b[39;49m\u001b[38;5;241;43m.\u001b[39;49m\u001b[43m_fit\u001b[49m\u001b[43m(\u001b[49m\u001b[43mX\u001b[49m\u001b[43m,\u001b[49m\u001b[43m \u001b[49m\u001b[43mhandle_unknown\u001b[49m\u001b[38;5;241;43m=\u001b[39;49m\u001b[38;5;28;43mself\u001b[39;49m\u001b[38;5;241;43m.\u001b[39;49m\u001b[43mhandle_unknown\u001b[49m\u001b[43m,\u001b[49m\u001b[43m \u001b[49m\u001b[43mforce_all_finite\u001b[49m\u001b[38;5;241;43m=\u001b[39;49m\u001b[38;5;124;43m\"\u001b[39;49m\u001b[38;5;124;43mallow-nan\u001b[39;49m\u001b[38;5;124;43m\"\u001b[39;49m\u001b[43m)\u001b[49m\n\u001b[1;32m    462\u001b[0m \u001b[38;5;28mself\u001b[39m\u001b[38;5;241m.\u001b[39mdrop_idx_ \u001b[38;5;241m=\u001b[39m \u001b[38;5;28mself\u001b[39m\u001b[38;5;241m.\u001b[39m_compute_drop_idx()\n\u001b[1;32m    463\u001b[0m \u001b[38;5;28;01mreturn\u001b[39;00m \u001b[38;5;28mself\u001b[39m\n",
      "File \u001b[0;32m~/anaconda3/lib/python3.9/site-packages/sklearn/preprocessing/_encoders.py:77\u001b[0m, in \u001b[0;36m_BaseEncoder._fit\u001b[0;34m(self, X, handle_unknown, force_all_finite)\u001b[0m\n\u001b[1;32m     75\u001b[0m \u001b[38;5;28mself\u001b[39m\u001b[38;5;241m.\u001b[39m_check_n_features(X, reset\u001b[38;5;241m=\u001b[39m\u001b[38;5;28;01mTrue\u001b[39;00m)\n\u001b[1;32m     76\u001b[0m \u001b[38;5;28mself\u001b[39m\u001b[38;5;241m.\u001b[39m_check_feature_names(X, reset\u001b[38;5;241m=\u001b[39m\u001b[38;5;28;01mTrue\u001b[39;00m)\n\u001b[0;32m---> 77\u001b[0m X_list, n_samples, n_features \u001b[38;5;241m=\u001b[39m \u001b[38;5;28;43mself\u001b[39;49m\u001b[38;5;241;43m.\u001b[39;49m\u001b[43m_check_X\u001b[49m\u001b[43m(\u001b[49m\n\u001b[1;32m     78\u001b[0m \u001b[43m    \u001b[49m\u001b[43mX\u001b[49m\u001b[43m,\u001b[49m\u001b[43m \u001b[49m\u001b[43mforce_all_finite\u001b[49m\u001b[38;5;241;43m=\u001b[39;49m\u001b[43mforce_all_finite\u001b[49m\n\u001b[1;32m     79\u001b[0m \u001b[43m\u001b[49m\u001b[43m)\u001b[49m\n\u001b[1;32m     80\u001b[0m \u001b[38;5;28mself\u001b[39m\u001b[38;5;241m.\u001b[39mn_features_in_ \u001b[38;5;241m=\u001b[39m n_features\n\u001b[1;32m     82\u001b[0m \u001b[38;5;28;01mif\u001b[39;00m \u001b[38;5;28mself\u001b[39m\u001b[38;5;241m.\u001b[39mcategories \u001b[38;5;241m!=\u001b[39m \u001b[38;5;124m\"\u001b[39m\u001b[38;5;124mauto\u001b[39m\u001b[38;5;124m\"\u001b[39m:\n",
      "File \u001b[0;32m~/anaconda3/lib/python3.9/site-packages/sklearn/preprocessing/_encoders.py:44\u001b[0m, in \u001b[0;36m_BaseEncoder._check_X\u001b[0;34m(self, X, force_all_finite)\u001b[0m\n\u001b[1;32m     31\u001b[0m \u001b[38;5;124;03m\"\"\"\u001b[39;00m\n\u001b[1;32m     32\u001b[0m \u001b[38;5;124;03mPerform custom check_array:\u001b[39;00m\n\u001b[1;32m     33\u001b[0m \u001b[38;5;124;03m- convert list of strings to object dtype\u001b[39;00m\n\u001b[0;32m   (...)\u001b[0m\n\u001b[1;32m     40\u001b[0m \n\u001b[1;32m     41\u001b[0m \u001b[38;5;124;03m\"\"\"\u001b[39;00m\n\u001b[1;32m     42\u001b[0m \u001b[38;5;28;01mif\u001b[39;00m \u001b[38;5;129;01mnot\u001b[39;00m (\u001b[38;5;28mhasattr\u001b[39m(X, \u001b[38;5;124m\"\u001b[39m\u001b[38;5;124miloc\u001b[39m\u001b[38;5;124m\"\u001b[39m) \u001b[38;5;129;01mand\u001b[39;00m \u001b[38;5;28mgetattr\u001b[39m(X, \u001b[38;5;124m\"\u001b[39m\u001b[38;5;124mndim\u001b[39m\u001b[38;5;124m\"\u001b[39m, \u001b[38;5;241m0\u001b[39m) \u001b[38;5;241m==\u001b[39m \u001b[38;5;241m2\u001b[39m):\n\u001b[1;32m     43\u001b[0m     \u001b[38;5;66;03m# if not a dataframe, do normal check_array validation\u001b[39;00m\n\u001b[0;32m---> 44\u001b[0m     X_temp \u001b[38;5;241m=\u001b[39m \u001b[43mcheck_array\u001b[49m\u001b[43m(\u001b[49m\u001b[43mX\u001b[49m\u001b[43m,\u001b[49m\u001b[43m \u001b[49m\u001b[43mdtype\u001b[49m\u001b[38;5;241;43m=\u001b[39;49m\u001b[38;5;28;43;01mNone\u001b[39;49;00m\u001b[43m,\u001b[49m\u001b[43m \u001b[49m\u001b[43mforce_all_finite\u001b[49m\u001b[38;5;241;43m=\u001b[39;49m\u001b[43mforce_all_finite\u001b[49m\u001b[43m)\u001b[49m\n\u001b[1;32m     45\u001b[0m     \u001b[38;5;28;01mif\u001b[39;00m \u001b[38;5;129;01mnot\u001b[39;00m \u001b[38;5;28mhasattr\u001b[39m(X, \u001b[38;5;124m\"\u001b[39m\u001b[38;5;124mdtype\u001b[39m\u001b[38;5;124m\"\u001b[39m) \u001b[38;5;129;01mand\u001b[39;00m np\u001b[38;5;241m.\u001b[39missubdtype(X_temp\u001b[38;5;241m.\u001b[39mdtype, np\u001b[38;5;241m.\u001b[39mstr_):\n\u001b[1;32m     46\u001b[0m         X \u001b[38;5;241m=\u001b[39m check_array(X, dtype\u001b[38;5;241m=\u001b[39m\u001b[38;5;28mobject\u001b[39m, force_all_finite\u001b[38;5;241m=\u001b[39mforce_all_finite)\n",
      "File \u001b[0;32m~/anaconda3/lib/python3.9/site-packages/sklearn/utils/validation.py:769\u001b[0m, in \u001b[0;36mcheck_array\u001b[0;34m(array, accept_sparse, accept_large_sparse, dtype, order, copy, force_all_finite, ensure_2d, allow_nd, ensure_min_samples, ensure_min_features, estimator)\u001b[0m\n\u001b[1;32m    767\u001b[0m     \u001b[38;5;66;03m# If input is 1D raise error\u001b[39;00m\n\u001b[1;32m    768\u001b[0m     \u001b[38;5;28;01mif\u001b[39;00m array\u001b[38;5;241m.\u001b[39mndim \u001b[38;5;241m==\u001b[39m \u001b[38;5;241m1\u001b[39m:\n\u001b[0;32m--> 769\u001b[0m         \u001b[38;5;28;01mraise\u001b[39;00m \u001b[38;5;167;01mValueError\u001b[39;00m(\n\u001b[1;32m    770\u001b[0m             \u001b[38;5;124m\"\u001b[39m\u001b[38;5;124mExpected 2D array, got 1D array instead:\u001b[39m\u001b[38;5;130;01m\\n\u001b[39;00m\u001b[38;5;124marray=\u001b[39m\u001b[38;5;132;01m{}\u001b[39;00m\u001b[38;5;124m.\u001b[39m\u001b[38;5;130;01m\\n\u001b[39;00m\u001b[38;5;124m\"\u001b[39m\n\u001b[1;32m    771\u001b[0m             \u001b[38;5;124m\"\u001b[39m\u001b[38;5;124mReshape your data either using array.reshape(-1, 1) if \u001b[39m\u001b[38;5;124m\"\u001b[39m\n\u001b[1;32m    772\u001b[0m             \u001b[38;5;124m\"\u001b[39m\u001b[38;5;124myour data has a single feature or array.reshape(1, -1) \u001b[39m\u001b[38;5;124m\"\u001b[39m\n\u001b[1;32m    773\u001b[0m             \u001b[38;5;124m\"\u001b[39m\u001b[38;5;124mif it contains a single sample.\u001b[39m\u001b[38;5;124m\"\u001b[39m\u001b[38;5;241m.\u001b[39mformat(array)\n\u001b[1;32m    774\u001b[0m         )\n\u001b[1;32m    776\u001b[0m \u001b[38;5;66;03m# make sure we actually converted to numeric:\u001b[39;00m\n\u001b[1;32m    777\u001b[0m \u001b[38;5;28;01mif\u001b[39;00m dtype_numeric \u001b[38;5;129;01mand\u001b[39;00m array\u001b[38;5;241m.\u001b[39mdtype\u001b[38;5;241m.\u001b[39mkind \u001b[38;5;129;01min\u001b[39;00m \u001b[38;5;124m\"\u001b[39m\u001b[38;5;124mOUSV\u001b[39m\u001b[38;5;124m\"\u001b[39m:\n",
      "\u001b[0;31mValueError\u001b[0m: Expected 2D array, got 1D array instead:\narray=[\"I've always wanted to like coconut water - low in calories, high in minerals - but I've just never liked the taste much. The pineapple juice in this really makes a difference. It still needs to be well chilled to be good, but it makes a healthy post-workout drink.\"\n 'I am giving this two stars as my family didnt mind the taste but the texture was so grainy and the biscuts fell apart easily. I was not a fan of the pancakes at all I believe they really didnt have a good flavor. Will not be wasting my money on such a tiny package either when you can but a bigger package of regular mix for less? Not fair to us with allergies in my opinion!!'\n \"These are so nice and creamy!  Usually I don't justify buying k-cups for things like cocoa that you can get cheaper in a packet, but this is so convenient and very good tasting .. way better than most powdered cocoa packets I've tried.  As far as price comparison, it is equivalent to gourmet-types of cocoa that would easily cost $1+ per packet.  I also like that it comes in a variety pack with 3 flavor options.  Highly recommend\"\n ...\n \"Enjoyed the product and they also provided very fast shipping.  I'm about out and need to order more.\"\n \"We love the Earth's Best line in our house. Our 9 mo old daughter  will ONLY eat Earth's Best dinners, and I don't blame her. The smell from both of the other 2 brand was nauseating. I've sampled the Earth's best dinners myself, and they aren't half bad... It is baby food.... The fruit blends and veggie blends are great as well.\"\n 'The chocolate on the stick was all melted and all the sticks were stuck with oneanother. The product and the concept is good but you will be better off buying it from a supermarket or directly get it from someone visiting Japan.'].\nReshape your data either using array.reshape(-1, 1) if your data has a single feature or array.reshape(1, -1) if it contains a single sample."
     ]
    }
   ],
   "source": [
    "from sklearn.linear_model import LogisticRegression\n",
    "from sklearn.preprocessing import OneHotEncoder\n",
    "\n",
    "\n",
    "# Split the dataset into training and testing sets\n",
    "X_train, X_test, y_train, y_test = train_test_split(train_reviews.Text, train_reviews.Sentiment, test_size=0.25, random_state=42)\n",
    "\n",
    "# One-hot encode the features\n",
    "one_hot_encoder = OneHotEncoder(sparse=False)\n",
    "X_train_one_hot = one_hot_encoder.fit_transform(X_train)\n",
    "X_test_one_hot = one_hot_encoder.transform(X_test)\n",
    "\n",
    "# Instantiate a LogisticRegression model\n",
    "logistic_reg = LogisticRegression(random_state=42)\n",
    "\n",
    "# Train the model on the one-hot encoded training data\n",
    "logistic_reg.fit(X_train_one_hot, y_train)\n",
    "\n",
    "# Use the trained model to predict the labels for the testing data\n",
    "y_pred = logistic_reg.predict(X_test_one_hot)\n",
    "\n",
    "# Evaluate the performance of the model using suitable metrics\n",
    "accuracy = accuracy_score(y_test, y_pred)\n",
    "precision = precision_score(y_test, y_pred, average='macro')\n",
    "recall = recall_score(y_test, y_pred, average='macro')\n",
    "f1 = f1_score(y_test, y_pred, average='macro')\n",
    "\n",
    "print(f\"Accuracy: {accuracy:.2f}\")\n",
    "print(f\"Precision: {precision:.2f}\")\n",
    "print(f\"Recall: {recall:.2f}\")\n",
    "print(f\"F1-score: {f1:.2f}\")"
   ]
  },
  {
   "cell_type": "code",
   "execution_count": null,
   "id": "7af42860",
   "metadata": {},
   "outputs": [],
   "source": []
  },
  {
   "cell_type": "code",
   "execution_count": null,
   "id": "cb999541",
   "metadata": {},
   "outputs": [],
   "source": []
  },
  {
   "cell_type": "code",
   "execution_count": null,
   "id": "b1e95c09",
   "metadata": {},
   "outputs": [],
   "source": []
  },
  {
   "cell_type": "code",
   "execution_count": null,
   "id": "63ac7ac4",
   "metadata": {},
   "outputs": [],
   "source": []
  },
  {
   "cell_type": "code",
   "execution_count": null,
   "id": "bdb90187",
   "metadata": {},
   "outputs": [],
   "source": []
  },
  {
   "cell_type": "code",
   "execution_count": 76,
   "id": "3432bf5d",
   "metadata": {},
   "outputs": [
    {
     "name": "stdout",
     "output_type": "stream",
     "text": [
      "Accuracy: 0.82\n",
      "Precision: 0.66\n",
      "Recall: 0.45\n",
      "F1-score: 0.47\n"
     ]
    }
   ],
   "source": [
    "from sklearn.feature_extraction.text import TfidfVectorizer\n",
    "\n",
    "# Split the dataset into training and testing sets\n",
    "X_train, X_test, y_train, y_test = train_test_split(train_reviews.Text, train_reviews.Sentiment, test_size=0.25, random_state=42)\n",
    "\n",
    "# TF-IDF vectorize the text data\n",
    "tfidf_vectorizer = TfidfVectorizer()\n",
    "X_train_tfidf = tfidf_vectorizer.fit_transform(X_train)\n",
    "X_test_tfidf = tfidf_vectorizer.transform(X_test)\n",
    "\n",
    "# Instantiate a LogisticRegression model\n",
    "logistic_reg = LogisticRegression(random_state=42)\n",
    "\n",
    "# Train the model on the TF-IDF vectorized training data\n",
    "logistic_reg.fit(X_train_tfidf, y_train)\n",
    "\n",
    "# Use the trained model to predict the labels for the testing data\n",
    "y_pred = logistic_reg.predict(X_test_tfidf)\n",
    "\n",
    "# Evaluate the performance of the model using suitable metrics\n",
    "accuracy = accuracy_score(y_test, y_pred)\n",
    "precision = precision_score(y_test, y_pred, average='macro')\n",
    "recall = recall_score(y_test, y_pred, average='macro')\n",
    "f1 = f1_score(y_test, y_pred, average='macro')\n",
    "\n",
    "print(f\"Accuracy: {accuracy:.2f}\")\n",
    "print(f\"Precision: {precision:.2f}\")\n",
    "print(f\"Recall: {recall:.2f}\")\n",
    "print(f\"F1-score: {f1:.2f}\")\n"
   ]
  },
  {
   "cell_type": "code",
   "execution_count": null,
   "id": "72f09a2f",
   "metadata": {},
   "outputs": [],
   "source": []
  },
  {
   "cell_type": "code",
   "execution_count": null,
   "id": "22fae617",
   "metadata": {},
   "outputs": [],
   "source": []
  },
  {
   "cell_type": "code",
   "execution_count": null,
   "id": "f5d2a49f",
   "metadata": {},
   "outputs": [],
   "source": []
  },
  {
   "cell_type": "code",
   "execution_count": null,
   "id": "2bcaa989",
   "metadata": {},
   "outputs": [],
   "source": []
  },
  {
   "cell_type": "code",
   "execution_count": null,
   "id": "fabe046b",
   "metadata": {},
   "outputs": [],
   "source": []
  },
  {
   "cell_type": "code",
   "execution_count": 77,
   "id": "1f440ff6",
   "metadata": {},
   "outputs": [
    {
     "name": "stdout",
     "output_type": "stream",
     "text": [
      "Accuracy: 0.78\n",
      "Precision: 0.48\n",
      "Recall: 0.35\n",
      "F1-score: 0.33\n"
     ]
    }
   ],
   "source": [
    "from sklearn.feature_extraction.text import CountVectorizer\n",
    "from sklearn.svm import SVC\n",
    "\n",
    "# Split the dataset into training and testing sets\n",
    "X_train, X_test, y_train, y_test = train_test_split(train_reviews.Text, train_reviews.Sentiment, test_size=0.25, random_state=42)\n",
    "\n",
    "# One-hot vectorize the text data\n",
    "count_vectorizer = CountVectorizer()\n",
    "X_train_one_hot = count_vectorizer.fit_transform(X_train)\n",
    "X_test_one_hot = count_vectorizer.transform(X_test)\n",
    "\n",
    "# Instantiate an SVC classifier with RBF kernel and default settings\n",
    "svc = SVC(kernel='rbf')\n",
    "\n",
    "# Train the classifier on the one-hot vectorized training data\n",
    "svc.fit(X_train_one_hot, y_train)\n",
    "\n",
    "# Use the trained classifier to predict the labels for the testing data\n",
    "y_pred = svc.predict(X_test_one_hot)\n",
    "\n",
    "# Evaluate the performance of the classifier using suitable metrics\n",
    "accuracy = accuracy_score(y_test, y_pred)\n",
    "precision = precision_score(y_test, y_pred, average='macro')\n",
    "recall = recall_score(y_test, y_pred, average='macro')\n",
    "f1 = f1_score(y_test, y_pred, average='macro')\n",
    "\n",
    "print(f\"Accuracy: {accuracy:.2f}\")\n",
    "print(f\"Precision: {precision:.2f}\")\n",
    "print(f\"Recall: {recall:.2f}\")\n",
    "print(f\"F1-score: {f1:.2f}\")\n"
   ]
  },
  {
   "cell_type": "code",
   "execution_count": null,
   "id": "5fb73c83",
   "metadata": {},
   "outputs": [],
   "source": []
  },
  {
   "cell_type": "code",
   "execution_count": null,
   "id": "a430afbc",
   "metadata": {},
   "outputs": [],
   "source": []
  },
  {
   "cell_type": "code",
   "execution_count": null,
   "id": "6fc0dc67",
   "metadata": {},
   "outputs": [],
   "source": []
  },
  {
   "cell_type": "code",
   "execution_count": null,
   "id": "bcdef962",
   "metadata": {},
   "outputs": [],
   "source": []
  },
  {
   "cell_type": "code",
   "execution_count": null,
   "id": "83fdd2bf",
   "metadata": {},
   "outputs": [],
   "source": []
  },
  {
   "cell_type": "code",
   "execution_count": null,
   "id": "e10401be",
   "metadata": {},
   "outputs": [],
   "source": []
  },
  {
   "cell_type": "code",
   "execution_count": null,
   "id": "f8219605",
   "metadata": {},
   "outputs": [],
   "source": []
  },
  {
   "cell_type": "code",
   "execution_count": null,
   "id": "b4cb2998",
   "metadata": {},
   "outputs": [],
   "source": []
  },
  {
   "cell_type": "code",
   "execution_count": null,
   "id": "50da6608",
   "metadata": {},
   "outputs": [],
   "source": []
  },
  {
   "cell_type": "code",
   "execution_count": null,
   "id": "2204270b",
   "metadata": {},
   "outputs": [],
   "source": []
  },
  {
   "cell_type": "code",
   "execution_count": null,
   "id": "379fddd4",
   "metadata": {},
   "outputs": [],
   "source": []
  },
  {
   "cell_type": "code",
   "execution_count": null,
   "id": "73420549",
   "metadata": {},
   "outputs": [],
   "source": []
  },
  {
   "cell_type": "code",
   "execution_count": null,
   "id": "90156d5e",
   "metadata": {},
   "outputs": [],
   "source": []
  },
  {
   "cell_type": "code",
   "execution_count": null,
   "id": "f6d4b91c",
   "metadata": {},
   "outputs": [],
   "source": []
  },
  {
   "cell_type": "code",
   "execution_count": null,
   "id": "df43df18",
   "metadata": {},
   "outputs": [],
   "source": []
  },
  {
   "cell_type": "code",
   "execution_count": null,
   "id": "53c7ae2d",
   "metadata": {},
   "outputs": [],
   "source": []
  },
  {
   "cell_type": "code",
   "execution_count": null,
   "id": "c175bb44",
   "metadata": {},
   "outputs": [],
   "source": []
  },
  {
   "cell_type": "code",
   "execution_count": null,
   "id": "0a5f703d",
   "metadata": {},
   "outputs": [],
   "source": []
  },
  {
   "cell_type": "code",
   "execution_count": null,
   "id": "effbf0a2",
   "metadata": {},
   "outputs": [],
   "source": []
  },
  {
   "cell_type": "code",
   "execution_count": null,
   "id": "514d3c58",
   "metadata": {},
   "outputs": [],
   "source": []
  }
 ],
 "metadata": {
  "kernelspec": {
   "display_name": "Python 3 (ipykernel)",
   "language": "python",
   "name": "python3"
  },
  "language_info": {
   "codemirror_mode": {
    "name": "ipython",
    "version": 3
   },
   "file_extension": ".py",
   "mimetype": "text/x-python",
   "name": "python",
   "nbconvert_exporter": "python",
   "pygments_lexer": "ipython3",
   "version": "3.9.12"
  }
 },
 "nbformat": 4,
 "nbformat_minor": 5
}
